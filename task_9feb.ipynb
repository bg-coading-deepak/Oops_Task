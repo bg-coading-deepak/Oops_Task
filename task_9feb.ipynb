{
 "cells": [
  {
   "cell_type": "markdown",
   "id": "fd27edc6",
   "metadata": {},
   "source": [
    "# oops Task"
   ]
  },
  {
   "cell_type": "markdown",
   "id": "46155edc",
   "metadata": {},
   "source": [
    "### Ques-No.1\n",
    "Create a vehicle class with an init method having instance variables as\n",
    "name_of_vehicle, max_speed and average_of_vehicle."
   ]
  },
  {
   "cell_type": "code",
   "execution_count": 22,
   "id": "4c68560d",
   "metadata": {},
   "outputs": [],
   "source": [
    "class vehicles:\n",
    "    def __init__(self, name_of_vehicles, max_speed, avarage_of_vehicles):\n",
    "        self.__name_of_vehicles = name_of_vehicles\n",
    "        self.__max_speed = max_speed\n",
    "        self.__avarage_of_vehicles = avarage_of_vehicles\n",
    "        "
   ]
  },
  {
   "cell_type": "code",
   "execution_count": 23,
   "id": "59d5d5de",
   "metadata": {},
   "outputs": [],
   "source": [
    "c=vehicles(\"Innova\",260, \"45km/hour\")"
   ]
  },
  {
   "cell_type": "code",
   "execution_count": 24,
   "id": "f1573464",
   "metadata": {},
   "outputs": [
    {
     "data": {
      "text/plain": [
       "'Innova'"
      ]
     },
     "execution_count": 24,
     "metadata": {},
     "output_type": "execute_result"
    }
   ],
   "source": [
    "c._vehicles__name_of_vehicles"
   ]
  },
  {
   "cell_type": "code",
   "execution_count": 25,
   "id": "9003eb2f",
   "metadata": {
    "scrolled": true
   },
   "outputs": [
    {
     "data": {
      "text/plain": [
       "260"
      ]
     },
     "execution_count": 25,
     "metadata": {},
     "output_type": "execute_result"
    }
   ],
   "source": [
    "c._vehicles__max_speed"
   ]
  },
  {
   "cell_type": "code",
   "execution_count": 26,
   "id": "bbdd20ce",
   "metadata": {},
   "outputs": [
    {
     "data": {
      "text/plain": [
       "'45km/hour'"
      ]
     },
     "execution_count": 26,
     "metadata": {},
     "output_type": "execute_result"
    }
   ],
   "source": [
    "c._vehicles__avarage_of_vehicles"
   ]
  },
  {
   "cell_type": "markdown",
   "id": "136c6775",
   "metadata": {},
   "source": [
    "### Quse-No.2\n",
    "Create a child class car from the vehicle class created in Que 1, which will inherit the vehicle class.\n",
    "Create a method named seating_capacity which takes capacity as an argument and returns the name of\n",
    "the vehicle and its seating capacity."
   ]
  },
  {
   "cell_type": "code",
   "execution_count": 68,
   "id": "d0f1d805",
   "metadata": {},
   "outputs": [],
   "source": [
    "class Vehicle:\n",
    "    def __init__(self, name, max_speed, mileage):\n",
    "        self.name = name\n",
    "        self.max_speed = max_speed\n",
    "        self.mileage = mileage\n",
    "\n",
    "    def seating_capacity(self, capacity):\n",
    "        return f\"The seating capacity of a {self.name} is {capacity} passengers\"\n",
    "\n"
   ]
  },
  {
   "cell_type": "code",
   "execution_count": 80,
   "id": "8cf5b4c2",
   "metadata": {},
   "outputs": [],
   "source": [
    "cap = Vehicle(\"innova\",120,\"50km/h\")"
   ]
  },
  {
   "cell_type": "code",
   "execution_count": 83,
   "id": "4894bd07",
   "metadata": {},
   "outputs": [
    {
     "data": {
      "text/plain": [
       "'The seating capacity of a innova is 60 passengers'"
      ]
     },
     "execution_count": 83,
     "metadata": {},
     "output_type": "execute_result"
    }
   ],
   "source": [
    "cap .seating_capacity(60)"
   ]
  },
  {
   "cell_type": "markdown",
   "id": "b9758a32",
   "metadata": {},
   "source": [
    "### Ques-No.3\n",
    "What is multiple inheritance? Write a python code to demonstrate multiple inheritance.\n"
   ]
  },
  {
   "cell_type": "code",
   "execution_count": null,
   "id": "a0530716",
   "metadata": {},
   "outputs": [],
   "source": [
    "When a class is derived from more than one base class it is called multiple Inheritance.\n",
    "The derived class inherits all the features of the base case"
   ]
  },
  {
   "cell_type": "code",
   "execution_count": 33,
   "id": "333c1350",
   "metadata": {},
   "outputs": [],
   "source": [
    "class class1:\n",
    "    def class1(self):\n",
    "        return \"This is first class\""
   ]
  },
  {
   "cell_type": "code",
   "execution_count": 35,
   "id": "b9472f0f",
   "metadata": {},
   "outputs": [],
   "source": [
    "class class2:\n",
    "    def class2(self):\n",
    "        return \"This is second class\""
   ]
  },
  {
   "cell_type": "code",
   "execution_count": 37,
   "id": "0f7a721f",
   "metadata": {},
   "outputs": [],
   "source": [
    "class class3(class1, class2):\n",
    "             pass\n",
    "    "
   ]
  },
  {
   "cell_type": "code",
   "execution_count": 39,
   "id": "98950bc5",
   "metadata": {},
   "outputs": [],
   "source": [
    "obj_class3 = class3()\n"
   ]
  },
  {
   "cell_type": "code",
   "execution_count": 40,
   "id": "0ba175f7",
   "metadata": {},
   "outputs": [
    {
     "data": {
      "text/plain": [
       "'This is second class'"
      ]
     },
     "execution_count": 40,
     "metadata": {},
     "output_type": "execute_result"
    }
   ],
   "source": [
    "obj_class3.class2()"
   ]
  },
  {
   "cell_type": "code",
   "execution_count": 41,
   "id": "043ff83c",
   "metadata": {},
   "outputs": [
    {
     "data": {
      "text/plain": [
       "'This is first class'"
      ]
     },
     "execution_count": 41,
     "metadata": {},
     "output_type": "execute_result"
    }
   ],
   "source": [
    "obj_class3.class1()"
   ]
  },
  {
   "cell_type": "markdown",
   "id": "a09ca875",
   "metadata": {},
   "source": [
    "### Ques-No.4\n",
    "What are getter and setter in python? Create a class and create a getter and a setter method in this\n",
    "class."
   ]
  },
  {
   "cell_type": "code",
   "execution_count": null,
   "id": "71e2a796",
   "metadata": {},
   "outputs": [],
   "source": [
    "Getter Method -(Accessor method)\n",
    "\n",
    "This method is used to access or read data of the variables.\n",
    "This method do not modify the data in the variable."
   ]
  },
  {
   "cell_type": "code",
   "execution_count": null,
   "id": "d41bc161",
   "metadata": {},
   "outputs": [],
   "source": [
    "Setter Method -(Mutator method)\n",
    "\n",
    "This method is used to access or read and modify data of the variables.\n",
    "This method modify the data in the variable.\n",
    "This is called as setter method."
   ]
  },
  {
   "cell_type": "markdown",
   "id": "25761f94",
   "metadata": {},
   "source": [
    "#### Exmaples:-1"
   ]
  },
  {
   "cell_type": "code",
   "execution_count": 42,
   "id": "c112ce4e",
   "metadata": {},
   "outputs": [],
   "source": [
    "class mobile:\n",
    "    def __init__(self):\n",
    "        self.model = \"PocoM2 Pro\"\n",
    "    def get_model(self):\n",
    "        return self.model"
   ]
  },
  {
   "cell_type": "code",
   "execution_count": 43,
   "id": "e27f320c",
   "metadata": {},
   "outputs": [],
   "source": [
    "poco = mobile()\n",
    "m = poco.get_model()\n"
   ]
  },
  {
   "cell_type": "code",
   "execution_count": 45,
   "id": "b22713d9",
   "metadata": {},
   "outputs": [
    {
     "name": "stdout",
     "output_type": "stream",
     "text": [
      "PocoM2 Pro\n"
     ]
    }
   ],
   "source": [
    "print(m)"
   ]
  },
  {
   "cell_type": "markdown",
   "id": "77939935",
   "metadata": {},
   "source": [
    "#### Exmaples:-2"
   ]
  },
  {
   "cell_type": "code",
   "execution_count": 49,
   "id": "c159ebcd",
   "metadata": {},
   "outputs": [],
   "source": [
    "class mobile:\n",
    "    def __init__(self):\n",
    "        self.model = \"Poco X_series\"\n",
    "    def set_model(self):\n",
    "        self.model = \"Poco M_series\""
   ]
  },
  {
   "cell_type": "code",
   "execution_count": 50,
   "id": "d928606c",
   "metadata": {},
   "outputs": [],
   "source": [
    "poco = mobile()"
   ]
  },
  {
   "cell_type": "code",
   "execution_count": 52,
   "id": "0cf5402e",
   "metadata": {},
   "outputs": [
    {
     "name": "stdout",
     "output_type": "stream",
     "text": [
      "Poco X_series Before setting\n"
     ]
    }
   ],
   "source": [
    "print(poco.model,\"Before setting\")"
   ]
  },
  {
   "cell_type": "code",
   "execution_count": 53,
   "id": "5e0bbf21",
   "metadata": {},
   "outputs": [],
   "source": [
    "poco.set_model()"
   ]
  },
  {
   "cell_type": "code",
   "execution_count": 55,
   "id": "30594d21",
   "metadata": {},
   "outputs": [
    {
     "name": "stdout",
     "output_type": "stream",
     "text": [
      "Poco M_series After setting\n"
     ]
    }
   ],
   "source": [
    "print(poco.model,\"After setting\")"
   ]
  },
  {
   "cell_type": "markdown",
   "id": "12a1e97c",
   "metadata": {},
   "source": [
    "### Ques-No.5\n",
    "What is method overriding in python? Write a python code to demonstrate method overriding."
   ]
  },
  {
   "cell_type": "code",
   "execution_count": null,
   "id": "e1f22041",
   "metadata": {},
   "outputs": [],
   "source": [
    "Method overriding is a feature of object-oriented programming languages\n",
    "where the subclass or child class can provide the program with specific\n",
    "characteristics or a specific implementation process of data provided\n",
    "that are already defined in the parent class or superclass.\n"
   ]
  },
  {
   "cell_type": "code",
   "execution_count": 56,
   "id": "14a431a9",
   "metadata": {},
   "outputs": [],
   "source": [
    "class add:\n",
    "    def result(self, a,b):\n",
    "        print(\"Addition\", a+b)\n",
    "        \n",
    "class mult:\n",
    "    def result(self, a,b):\n",
    "        print(\"Multiplication\",a*b)"
   ]
  },
  {
   "cell_type": "code",
   "execution_count": 57,
   "id": "4a1fa612",
   "metadata": {},
   "outputs": [
    {
     "name": "stdout",
     "output_type": "stream",
     "text": [
      "Multiplication 560\n"
     ]
    }
   ],
   "source": [
    "m = mult()\n",
    "m.result(10,56)"
   ]
  },
  {
   "cell_type": "code",
   "execution_count": 58,
   "id": "9c7bd843",
   "metadata": {},
   "outputs": [
    {
     "name": "stdout",
     "output_type": "stream",
     "text": [
      "Addition 6\n"
     ]
    }
   ],
   "source": [
    "m = add()\n",
    "m.result(1,5)"
   ]
  }
 ],
 "metadata": {
  "kernelspec": {
   "display_name": "Python 3 (ipykernel)",
   "language": "python",
   "name": "python3"
  },
  "language_info": {
   "codemirror_mode": {
    "name": "ipython",
    "version": 3
   },
   "file_extension": ".py",
   "mimetype": "text/x-python",
   "name": "python",
   "nbconvert_exporter": "python",
   "pygments_lexer": "ipython3",
   "version": "3.9.12"
  }
 },
 "nbformat": 4,
 "nbformat_minor": 5
}
